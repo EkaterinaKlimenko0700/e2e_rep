{
 "cells": [
  {
   "cell_type": "code",
   "execution_count": 1,
   "metadata": {
    "id": "WR333pEmmQjG",
    "tags": []
   },
   "outputs": [],
   "source": [
    "import pandas as pd"
   ]
  },
  {
   "cell_type": "code",
   "execution_count": 2,
   "metadata": {
    "id": "Iht6K4cQm34b",
    "tags": []
   },
   "outputs": [],
   "source": [
    "df = pd.read_csv('./spb.real.estate.archive.2018.tsv', delimiter='\\t')"
   ]
  },
  {
   "cell_type": "code",
   "execution_count": 3,
   "metadata": {
    "colab": {
     "base_uri": "https://localhost:8080/"
    },
    "id": "LQp3rTmnpIIU",
    "outputId": "3d5b2a42-735d-463e-be6f-dc0d3dcffbcd",
    "tags": []
   },
   "outputs": [
    {
     "data": {
      "text/plain": [
       "Index(['offer_id', 'first_day_exposition', 'last_day_exposition', 'last_price',\n",
       "       'floor', 'open_plan', 'rooms', 'studio', 'area', 'kitchen_area',\n",
       "       'living_area', 'agent_fee', 'renovation', 'offer_type', 'category_type',\n",
       "       'unified_address', 'building_id'],\n",
       "      dtype='object')"
      ]
     },
     "execution_count": 3,
     "metadata": {},
     "output_type": "execute_result"
    }
   ],
   "source": [
    "df.columns"
   ]
  },
  {
   "cell_type": "code",
   "execution_count": 4,
   "metadata": {
    "id": "k428Qa42rC1I",
    "tags": []
   },
   "outputs": [],
   "source": [
    "df = df[df.offer_type==1]"
   ]
  },
  {
   "cell_type": "code",
   "execution_count": 5,
   "metadata": {
    "id": "WcudrSY5rSS5",
    "tags": []
   },
   "outputs": [],
   "source": [
    "df['price_m'] = df.last_price // df.area"
   ]
  },
  {
   "cell_type": "code",
   "execution_count": 6,
   "metadata": {
    "id": "VVoWqp65rjPh",
    "tags": []
   },
   "outputs": [],
   "source": [
    "df = df[df.unified_address.str.contains(\"Санкт-Петербург\")]"
   ]
  },
  {
   "cell_type": "code",
   "execution_count": 7,
   "metadata": {
    "id": "9uZOdt3zsSVw",
    "tags": []
   },
   "outputs": [],
   "source": [
    "df['year'] = pd.DatetimeIndex(df.last_day_exposition).year\n",
    "df['month'] = pd.DatetimeIndex(df.last_day_exposition).month"
   ]
  },
  {
   "cell_type": "code",
   "execution_count": 8,
   "metadata": {
    "id": "M_ykdRdTqrvR",
    "tags": []
   },
   "outputs": [],
   "source": [
    "columns_for_analis = ['price_m', 'year', 'month', 'floor',  'rooms', 'studio', 'area', 'offer_type', 'building_id']"
   ]
  },
  {
   "cell_type": "code",
   "execution_count": 9,
   "metadata": {
    "id": "mrTMnQQSr2dz",
    "tags": []
   },
   "outputs": [],
   "source": [
    "df = df[columns_for_analis]"
   ]
  },
  {
   "cell_type": "code",
   "execution_count": 10,
   "metadata": {
    "id": "hFNi_ahit8qR",
    "tags": []
   },
   "outputs": [],
   "source": [
    "df = df[(df.area>=20) & (df.area<=200)]"
   ]
  },
  {
   "cell_type": "code",
   "execution_count": 11,
   "metadata": {
    "id": "iskPjacevSIQ",
    "tags": []
   },
   "outputs": [],
   "source": [
    "df =  df[(df.price_m>=70000) & (df.price_m<=300000)]"
   ]
  },
  {
   "cell_type": "code",
   "execution_count": 12,
   "metadata": {
    "id": "gMOIE0lsvhkx",
    "tags": []
   },
   "outputs": [],
   "source": [
    "df = df[df.studio==False]"
   ]
  },
  {
   "cell_type": "code",
   "execution_count": 13,
   "metadata": {
    "colab": {
     "base_uri": "https://localhost:8080/"
    },
    "id": "6jCVMym-v7JR",
    "outputId": "02468c93-afa0-4f88-bb40-bfa402f84bc3",
    "tags": []
   },
   "outputs": [
    {
     "data": {
      "text/plain": [
       "Index(['price_m', 'year', 'month', 'floor', 'rooms', 'studio', 'area',\n",
       "       'offer_type', 'building_id'],\n",
       "      dtype='object')"
      ]
     },
     "execution_count": 13,
     "metadata": {},
     "output_type": "execute_result"
    }
   ],
   "source": [
    "df.columns"
   ]
  },
  {
   "cell_type": "code",
   "execution_count": 14,
   "metadata": {
    "id": "8WcFKSTmwFB_",
    "tags": []
   },
   "outputs": [],
   "source": [
    "columns_for_analis = ['price_m', 'floor', 'rooms', 'area', 'building_id']"
   ]
  },
  {
   "cell_type": "code",
   "execution_count": 15,
   "metadata": {
    "id": "LvqKJGk1wVmL",
    "tags": []
   },
   "outputs": [],
   "source": [
    "df = df[columns_for_analis]"
   ]
  },
  {
   "cell_type": "code",
   "execution_count": 16,
   "metadata": {
    "id": "824RUVwcx8gA",
    "tags": []
   },
   "outputs": [],
   "source": [
    "df = df[df.floor <= 25]"
   ]
  },
  {
   "cell_type": "code",
   "execution_count": 17,
   "metadata": {
    "id": "CqBkU9qxwYPd",
    "tags": []
   },
   "outputs": [],
   "source": [
    "building_id = df.building_id.value_counts()"
   ]
  },
  {
   "cell_type": "code",
   "execution_count": 18,
   "metadata": {
    "id": "wrIOfa51ymcj",
    "tags": []
   },
   "outputs": [],
   "source": [
    "building_id = building_id[building_id>7]"
   ]
  },
  {
   "cell_type": "code",
   "execution_count": 19,
   "metadata": {
    "id": "xnVIrP9qypep",
    "tags": []
   },
   "outputs": [
    {
     "data": {
      "text/html": [
       "<div>\n",
       "<style scoped>\n",
       "    .dataframe tbody tr th:only-of-type {\n",
       "        vertical-align: middle;\n",
       "    }\n",
       "\n",
       "    .dataframe tbody tr th {\n",
       "        vertical-align: top;\n",
       "    }\n",
       "\n",
       "    .dataframe thead th {\n",
       "        text-align: right;\n",
       "    }\n",
       "</style>\n",
       "<table border=\"1\" class=\"dataframe\">\n",
       "  <thead>\n",
       "    <tr style=\"text-align: right;\">\n",
       "      <th></th>\n",
       "      <th>price_m</th>\n",
       "      <th>floor</th>\n",
       "      <th>rooms</th>\n",
       "      <th>area</th>\n",
       "      <th>building_id</th>\n",
       "    </tr>\n",
       "  </thead>\n",
       "  <tbody>\n",
       "    <tr>\n",
       "      <th>0</th>\n",
       "      <td>134187.0</td>\n",
       "      <td>19</td>\n",
       "      <td>1</td>\n",
       "      <td>27.40</td>\n",
       "      <td>3552413344225333068</td>\n",
       "    </tr>\n",
       "    <tr>\n",
       "      <th>1</th>\n",
       "      <td>81999.0</td>\n",
       "      <td>2</td>\n",
       "      <td>3</td>\n",
       "      <td>85.84</td>\n",
       "      <td>7274736308217971906</td>\n",
       "    </tr>\n",
       "    <tr>\n",
       "      <th>2</th>\n",
       "      <td>81999.0</td>\n",
       "      <td>3</td>\n",
       "      <td>3</td>\n",
       "      <td>85.84</td>\n",
       "      <td>7274736308217971906</td>\n",
       "    </tr>\n",
       "    <tr>\n",
       "      <th>3</th>\n",
       "      <td>129000.0</td>\n",
       "      <td>5</td>\n",
       "      <td>3</td>\n",
       "      <td>93.60</td>\n",
       "      <td>5917543958366039686</td>\n",
       "    </tr>\n",
       "    <tr>\n",
       "      <th>4</th>\n",
       "      <td>143000.0</td>\n",
       "      <td>7</td>\n",
       "      <td>4</td>\n",
       "      <td>142.70</td>\n",
       "      <td>5917543958366039686</td>\n",
       "    </tr>\n",
       "    <tr>\n",
       "      <th>...</th>\n",
       "      <td>...</td>\n",
       "      <td>...</td>\n",
       "      <td>...</td>\n",
       "      <td>...</td>\n",
       "      <td>...</td>\n",
       "    </tr>\n",
       "    <tr>\n",
       "      <th>428146</th>\n",
       "      <td>140000.0</td>\n",
       "      <td>4</td>\n",
       "      <td>2</td>\n",
       "      <td>67.10</td>\n",
       "      <td>2382674064396192368</td>\n",
       "    </tr>\n",
       "    <tr>\n",
       "      <th>428148</th>\n",
       "      <td>120253.0</td>\n",
       "      <td>6</td>\n",
       "      <td>2</td>\n",
       "      <td>79.00</td>\n",
       "      <td>2463745091400969904</td>\n",
       "    </tr>\n",
       "    <tr>\n",
       "      <th>428149</th>\n",
       "      <td>93753.0</td>\n",
       "      <td>13</td>\n",
       "      <td>3</td>\n",
       "      <td>101.33</td>\n",
       "      <td>6857553250730459760</td>\n",
       "    </tr>\n",
       "    <tr>\n",
       "      <th>428150</th>\n",
       "      <td>120030.0</td>\n",
       "      <td>5</td>\n",
       "      <td>2</td>\n",
       "      <td>79.30</td>\n",
       "      <td>5611936545005959407</td>\n",
       "    </tr>\n",
       "    <tr>\n",
       "      <th>428154</th>\n",
       "      <td>123165.0</td>\n",
       "      <td>4</td>\n",
       "      <td>2</td>\n",
       "      <td>78.78</td>\n",
       "      <td>580805813953628536</td>\n",
       "    </tr>\n",
       "  </tbody>\n",
       "</table>\n",
       "<p>123581 rows × 5 columns</p>\n",
       "</div>"
      ],
      "text/plain": [
       "         price_m  floor  rooms    area          building_id\n",
       "0       134187.0     19      1   27.40  3552413344225333068\n",
       "1        81999.0      2      3   85.84  7274736308217971906\n",
       "2        81999.0      3      3   85.84  7274736308217971906\n",
       "3       129000.0      5      3   93.60  5917543958366039686\n",
       "4       143000.0      7      4  142.70  5917543958366039686\n",
       "...          ...    ...    ...     ...                  ...\n",
       "428146  140000.0      4      2   67.10  2382674064396192368\n",
       "428148  120253.0      6      2   79.00  2463745091400969904\n",
       "428149   93753.0     13      3  101.33  6857553250730459760\n",
       "428150  120030.0      5      2   79.30  5611936545005959407\n",
       "428154  123165.0      4      2   78.78   580805813953628536\n",
       "\n",
       "[123581 rows x 5 columns]"
      ]
     },
     "execution_count": 19,
     "metadata": {},
     "output_type": "execute_result"
    }
   ],
   "source": [
    "df[df.building_id.apply(lambda id: id in building_id)]"
   ]
  },
  {
   "cell_type": "code",
   "execution_count": 20,
   "metadata": {
    "id": "xG8BwH4b0Pic",
    "tags": []
   },
   "outputs": [],
   "source": [
    "y = df['price_m']\n",
    "X = df[['floor', 'rooms', 'area']]"
   ]
  },
  {
   "cell_type": "code",
   "execution_count": 21,
   "metadata": {
    "id": "VWDDQGjr04dx",
    "tags": []
   },
   "outputs": [],
   "source": [
    "from sklearn.ensemble import RandomForestRegressor\n",
    "from sklearn.model_selection import train_test_split\n",
    "from sklearn.model_selection import GridSearchCV"
   ]
  },
  {
   "cell_type": "code",
   "execution_count": 22,
   "metadata": {
    "id": "uEvs43eT1fLR",
    "tags": []
   },
   "outputs": [],
   "source": [
    "X_train, X_test, y_train, y_test = train_test_split(X, y, test_size=0.33, random_state=42)"
   ]
  },
  {
   "cell_type": "code",
   "execution_count": 29,
   "metadata": {
    "id": "wMJCmgdh4F--",
    "tags": []
   },
   "outputs": [],
   "source": [
    "parameters = {'n_estimators':[i for i in range(10,110,10)], 'max_depth':[1,2,3,4, 5,6]}"
   ]
  },
  {
   "cell_type": "code",
   "execution_count": 30,
   "metadata": {
    "id": "Y1hwE-C21_B2",
    "tags": []
   },
   "outputs": [],
   "source": [
    "regr = RandomForestRegressor(random_state=42)"
   ]
  },
  {
   "cell_type": "code",
   "execution_count": 33,
   "metadata": {
    "id": "vxpFA6Jj4qlZ",
    "tags": []
   },
   "outputs": [],
   "source": [
    "clf = GridSearchCV(regr, parameters)"
   ]
  },
  {
   "cell_type": "code",
   "execution_count": 36,
   "metadata": {
    "tags": []
   },
   "outputs": [
    {
     "data": {
      "text/html": [
       "<style>#sk-container-id-1 {color: black;background-color: white;}#sk-container-id-1 pre{padding: 0;}#sk-container-id-1 div.sk-toggleable {background-color: white;}#sk-container-id-1 label.sk-toggleable__label {cursor: pointer;display: block;width: 100%;margin-bottom: 0;padding: 0.3em;box-sizing: border-box;text-align: center;}#sk-container-id-1 label.sk-toggleable__label-arrow:before {content: \"▸\";float: left;margin-right: 0.25em;color: #696969;}#sk-container-id-1 label.sk-toggleable__label-arrow:hover:before {color: black;}#sk-container-id-1 div.sk-estimator:hover label.sk-toggleable__label-arrow:before {color: black;}#sk-container-id-1 div.sk-toggleable__content {max-height: 0;max-width: 0;overflow: hidden;text-align: left;background-color: #f0f8ff;}#sk-container-id-1 div.sk-toggleable__content pre {margin: 0.2em;color: black;border-radius: 0.25em;background-color: #f0f8ff;}#sk-container-id-1 input.sk-toggleable__control:checked~div.sk-toggleable__content {max-height: 200px;max-width: 100%;overflow: auto;}#sk-container-id-1 input.sk-toggleable__control:checked~label.sk-toggleable__label-arrow:before {content: \"▾\";}#sk-container-id-1 div.sk-estimator input.sk-toggleable__control:checked~label.sk-toggleable__label {background-color: #d4ebff;}#sk-container-id-1 div.sk-label input.sk-toggleable__control:checked~label.sk-toggleable__label {background-color: #d4ebff;}#sk-container-id-1 input.sk-hidden--visually {border: 0;clip: rect(1px 1px 1px 1px);clip: rect(1px, 1px, 1px, 1px);height: 1px;margin: -1px;overflow: hidden;padding: 0;position: absolute;width: 1px;}#sk-container-id-1 div.sk-estimator {font-family: monospace;background-color: #f0f8ff;border: 1px dotted black;border-radius: 0.25em;box-sizing: border-box;margin-bottom: 0.5em;}#sk-container-id-1 div.sk-estimator:hover {background-color: #d4ebff;}#sk-container-id-1 div.sk-parallel-item::after {content: \"\";width: 100%;border-bottom: 1px solid gray;flex-grow: 1;}#sk-container-id-1 div.sk-label:hover label.sk-toggleable__label {background-color: #d4ebff;}#sk-container-id-1 div.sk-serial::before {content: \"\";position: absolute;border-left: 1px solid gray;box-sizing: border-box;top: 0;bottom: 0;left: 50%;z-index: 0;}#sk-container-id-1 div.sk-serial {display: flex;flex-direction: column;align-items: center;background-color: white;padding-right: 0.2em;padding-left: 0.2em;position: relative;}#sk-container-id-1 div.sk-item {position: relative;z-index: 1;}#sk-container-id-1 div.sk-parallel {display: flex;align-items: stretch;justify-content: center;background-color: white;position: relative;}#sk-container-id-1 div.sk-item::before, #sk-container-id-1 div.sk-parallel-item::before {content: \"\";position: absolute;border-left: 1px solid gray;box-sizing: border-box;top: 0;bottom: 0;left: 50%;z-index: -1;}#sk-container-id-1 div.sk-parallel-item {display: flex;flex-direction: column;z-index: 1;position: relative;background-color: white;}#sk-container-id-1 div.sk-parallel-item:first-child::after {align-self: flex-end;width: 50%;}#sk-container-id-1 div.sk-parallel-item:last-child::after {align-self: flex-start;width: 50%;}#sk-container-id-1 div.sk-parallel-item:only-child::after {width: 0;}#sk-container-id-1 div.sk-dashed-wrapped {border: 1px dashed gray;margin: 0 0.4em 0.5em 0.4em;box-sizing: border-box;padding-bottom: 0.4em;background-color: white;}#sk-container-id-1 div.sk-label label {font-family: monospace;font-weight: bold;display: inline-block;line-height: 1.2em;}#sk-container-id-1 div.sk-label-container {text-align: center;}#sk-container-id-1 div.sk-container {/* jupyter's `normalize.less` sets `[hidden] { display: none; }` but bootstrap.min.css set `[hidden] { display: none !important; }` so we also need the `!important` here to be able to override the default hidden behavior on the sphinx rendered scikit-learn.org. See: https://github.com/scikit-learn/scikit-learn/issues/21755 */display: inline-block !important;position: relative;}#sk-container-id-1 div.sk-text-repr-fallback {display: none;}</style><div id=\"sk-container-id-1\" class=\"sk-top-container\"><div class=\"sk-text-repr-fallback\"><pre>GridSearchCV(estimator=RandomForestRegressor(random_state=42),\n",
       "             param_grid={&#x27;max_depth&#x27;: [1, 2, 3, 4, 5, 6],\n",
       "                         &#x27;n_estimators&#x27;: [10, 20, 30, 40, 50, 60, 70, 80, 90,\n",
       "                                          100]})</pre><b>In a Jupyter environment, please rerun this cell to show the HTML representation or trust the notebook. <br />On GitHub, the HTML representation is unable to render, please try loading this page with nbviewer.org.</b></div><div class=\"sk-container\" hidden><div class=\"sk-item sk-dashed-wrapped\"><div class=\"sk-label-container\"><div class=\"sk-label sk-toggleable\"><input class=\"sk-toggleable__control sk-hidden--visually\" id=\"sk-estimator-id-1\" type=\"checkbox\" ><label for=\"sk-estimator-id-1\" class=\"sk-toggleable__label sk-toggleable__label-arrow\">GridSearchCV</label><div class=\"sk-toggleable__content\"><pre>GridSearchCV(estimator=RandomForestRegressor(random_state=42),\n",
       "             param_grid={&#x27;max_depth&#x27;: [1, 2, 3, 4, 5, 6],\n",
       "                         &#x27;n_estimators&#x27;: [10, 20, 30, 40, 50, 60, 70, 80, 90,\n",
       "                                          100]})</pre></div></div></div><div class=\"sk-parallel\"><div class=\"sk-parallel-item\"><div class=\"sk-item\"><div class=\"sk-label-container\"><div class=\"sk-label sk-toggleable\"><input class=\"sk-toggleable__control sk-hidden--visually\" id=\"sk-estimator-id-2\" type=\"checkbox\" ><label for=\"sk-estimator-id-2\" class=\"sk-toggleable__label sk-toggleable__label-arrow\">estimator: RandomForestRegressor</label><div class=\"sk-toggleable__content\"><pre>RandomForestRegressor(random_state=42)</pre></div></div></div><div class=\"sk-serial\"><div class=\"sk-item\"><div class=\"sk-estimator sk-toggleable\"><input class=\"sk-toggleable__control sk-hidden--visually\" id=\"sk-estimator-id-3\" type=\"checkbox\" ><label for=\"sk-estimator-id-3\" class=\"sk-toggleable__label sk-toggleable__label-arrow\">RandomForestRegressor</label><div class=\"sk-toggleable__content\"><pre>RandomForestRegressor(random_state=42)</pre></div></div></div></div></div></div></div></div></div></div>"
      ],
      "text/plain": [
       "GridSearchCV(estimator=RandomForestRegressor(random_state=42),\n",
       "             param_grid={'max_depth': [1, 2, 3, 4, 5, 6],\n",
       "                         'n_estimators': [10, 20, 30, 40, 50, 60, 70, 80, 90,\n",
       "                                          100]})"
      ]
     },
     "execution_count": 36,
     "metadata": {},
     "output_type": "execute_result"
    }
   ],
   "source": [
    "clf.fit(X_train, y_train)"
   ]
  },
  {
   "cell_type": "code",
   "execution_count": 37,
   "metadata": {
    "colab": {
     "base_uri": "https://localhost:8080/",
     "height": 74
    },
    "id": "DLtgj9Sb52aW",
    "outputId": "54bd49e4-f37f-41d1-b480-e6320a771582",
    "tags": []
   },
   "outputs": [
    {
     "data": {
      "text/html": [
       "<style>#sk-container-id-2 {color: black;background-color: white;}#sk-container-id-2 pre{padding: 0;}#sk-container-id-2 div.sk-toggleable {background-color: white;}#sk-container-id-2 label.sk-toggleable__label {cursor: pointer;display: block;width: 100%;margin-bottom: 0;padding: 0.3em;box-sizing: border-box;text-align: center;}#sk-container-id-2 label.sk-toggleable__label-arrow:before {content: \"▸\";float: left;margin-right: 0.25em;color: #696969;}#sk-container-id-2 label.sk-toggleable__label-arrow:hover:before {color: black;}#sk-container-id-2 div.sk-estimator:hover label.sk-toggleable__label-arrow:before {color: black;}#sk-container-id-2 div.sk-toggleable__content {max-height: 0;max-width: 0;overflow: hidden;text-align: left;background-color: #f0f8ff;}#sk-container-id-2 div.sk-toggleable__content pre {margin: 0.2em;color: black;border-radius: 0.25em;background-color: #f0f8ff;}#sk-container-id-2 input.sk-toggleable__control:checked~div.sk-toggleable__content {max-height: 200px;max-width: 100%;overflow: auto;}#sk-container-id-2 input.sk-toggleable__control:checked~label.sk-toggleable__label-arrow:before {content: \"▾\";}#sk-container-id-2 div.sk-estimator input.sk-toggleable__control:checked~label.sk-toggleable__label {background-color: #d4ebff;}#sk-container-id-2 div.sk-label input.sk-toggleable__control:checked~label.sk-toggleable__label {background-color: #d4ebff;}#sk-container-id-2 input.sk-hidden--visually {border: 0;clip: rect(1px 1px 1px 1px);clip: rect(1px, 1px, 1px, 1px);height: 1px;margin: -1px;overflow: hidden;padding: 0;position: absolute;width: 1px;}#sk-container-id-2 div.sk-estimator {font-family: monospace;background-color: #f0f8ff;border: 1px dotted black;border-radius: 0.25em;box-sizing: border-box;margin-bottom: 0.5em;}#sk-container-id-2 div.sk-estimator:hover {background-color: #d4ebff;}#sk-container-id-2 div.sk-parallel-item::after {content: \"\";width: 100%;border-bottom: 1px solid gray;flex-grow: 1;}#sk-container-id-2 div.sk-label:hover label.sk-toggleable__label {background-color: #d4ebff;}#sk-container-id-2 div.sk-serial::before {content: \"\";position: absolute;border-left: 1px solid gray;box-sizing: border-box;top: 0;bottom: 0;left: 50%;z-index: 0;}#sk-container-id-2 div.sk-serial {display: flex;flex-direction: column;align-items: center;background-color: white;padding-right: 0.2em;padding-left: 0.2em;position: relative;}#sk-container-id-2 div.sk-item {position: relative;z-index: 1;}#sk-container-id-2 div.sk-parallel {display: flex;align-items: stretch;justify-content: center;background-color: white;position: relative;}#sk-container-id-2 div.sk-item::before, #sk-container-id-2 div.sk-parallel-item::before {content: \"\";position: absolute;border-left: 1px solid gray;box-sizing: border-box;top: 0;bottom: 0;left: 50%;z-index: -1;}#sk-container-id-2 div.sk-parallel-item {display: flex;flex-direction: column;z-index: 1;position: relative;background-color: white;}#sk-container-id-2 div.sk-parallel-item:first-child::after {align-self: flex-end;width: 50%;}#sk-container-id-2 div.sk-parallel-item:last-child::after {align-self: flex-start;width: 50%;}#sk-container-id-2 div.sk-parallel-item:only-child::after {width: 0;}#sk-container-id-2 div.sk-dashed-wrapped {border: 1px dashed gray;margin: 0 0.4em 0.5em 0.4em;box-sizing: border-box;padding-bottom: 0.4em;background-color: white;}#sk-container-id-2 div.sk-label label {font-family: monospace;font-weight: bold;display: inline-block;line-height: 1.2em;}#sk-container-id-2 div.sk-label-container {text-align: center;}#sk-container-id-2 div.sk-container {/* jupyter's `normalize.less` sets `[hidden] { display: none; }` but bootstrap.min.css set `[hidden] { display: none !important; }` so we also need the `!important` here to be able to override the default hidden behavior on the sphinx rendered scikit-learn.org. See: https://github.com/scikit-learn/scikit-learn/issues/21755 */display: inline-block !important;position: relative;}#sk-container-id-2 div.sk-text-repr-fallback {display: none;}</style><div id=\"sk-container-id-2\" class=\"sk-top-container\"><div class=\"sk-text-repr-fallback\"><pre>RandomForestRegressor(max_depth=6, n_estimators=70, random_state=42)</pre><b>In a Jupyter environment, please rerun this cell to show the HTML representation or trust the notebook. <br />On GitHub, the HTML representation is unable to render, please try loading this page with nbviewer.org.</b></div><div class=\"sk-container\" hidden><div class=\"sk-item\"><div class=\"sk-estimator sk-toggleable\"><input class=\"sk-toggleable__control sk-hidden--visually\" id=\"sk-estimator-id-4\" type=\"checkbox\" checked><label for=\"sk-estimator-id-4\" class=\"sk-toggleable__label sk-toggleable__label-arrow\">RandomForestRegressor</label><div class=\"sk-toggleable__content\"><pre>RandomForestRegressor(max_depth=6, n_estimators=70, random_state=42)</pre></div></div></div></div></div>"
      ],
      "text/plain": [
       "RandomForestRegressor(max_depth=6, n_estimators=70, random_state=42)"
      ]
     },
     "execution_count": 37,
     "metadata": {},
     "output_type": "execute_result"
    }
   ],
   "source": [
    "clf.best_estimator_"
   ]
  },
  {
   "cell_type": "code",
   "execution_count": 38,
   "metadata": {
    "id": "AjgrvrR758CS",
    "tags": []
   },
   "outputs": [],
   "source": [
    "regr = RandomForestRegressor(max_depth=4, n_estimators=40, random_state=42)"
   ]
  },
  {
   "cell_type": "code",
   "execution_count": 39,
   "metadata": {
    "colab": {
     "base_uri": "https://localhost:8080/",
     "height": 74
    },
    "id": "0UG1lT-E2GZG",
    "outputId": "e4d922e3-b260-4792-fd40-5d263592f228",
    "tags": []
   },
   "outputs": [
    {
     "data": {
      "text/html": [
       "<style>#sk-container-id-3 {color: black;background-color: white;}#sk-container-id-3 pre{padding: 0;}#sk-container-id-3 div.sk-toggleable {background-color: white;}#sk-container-id-3 label.sk-toggleable__label {cursor: pointer;display: block;width: 100%;margin-bottom: 0;padding: 0.3em;box-sizing: border-box;text-align: center;}#sk-container-id-3 label.sk-toggleable__label-arrow:before {content: \"▸\";float: left;margin-right: 0.25em;color: #696969;}#sk-container-id-3 label.sk-toggleable__label-arrow:hover:before {color: black;}#sk-container-id-3 div.sk-estimator:hover label.sk-toggleable__label-arrow:before {color: black;}#sk-container-id-3 div.sk-toggleable__content {max-height: 0;max-width: 0;overflow: hidden;text-align: left;background-color: #f0f8ff;}#sk-container-id-3 div.sk-toggleable__content pre {margin: 0.2em;color: black;border-radius: 0.25em;background-color: #f0f8ff;}#sk-container-id-3 input.sk-toggleable__control:checked~div.sk-toggleable__content {max-height: 200px;max-width: 100%;overflow: auto;}#sk-container-id-3 input.sk-toggleable__control:checked~label.sk-toggleable__label-arrow:before {content: \"▾\";}#sk-container-id-3 div.sk-estimator input.sk-toggleable__control:checked~label.sk-toggleable__label {background-color: #d4ebff;}#sk-container-id-3 div.sk-label input.sk-toggleable__control:checked~label.sk-toggleable__label {background-color: #d4ebff;}#sk-container-id-3 input.sk-hidden--visually {border: 0;clip: rect(1px 1px 1px 1px);clip: rect(1px, 1px, 1px, 1px);height: 1px;margin: -1px;overflow: hidden;padding: 0;position: absolute;width: 1px;}#sk-container-id-3 div.sk-estimator {font-family: monospace;background-color: #f0f8ff;border: 1px dotted black;border-radius: 0.25em;box-sizing: border-box;margin-bottom: 0.5em;}#sk-container-id-3 div.sk-estimator:hover {background-color: #d4ebff;}#sk-container-id-3 div.sk-parallel-item::after {content: \"\";width: 100%;border-bottom: 1px solid gray;flex-grow: 1;}#sk-container-id-3 div.sk-label:hover label.sk-toggleable__label {background-color: #d4ebff;}#sk-container-id-3 div.sk-serial::before {content: \"\";position: absolute;border-left: 1px solid gray;box-sizing: border-box;top: 0;bottom: 0;left: 50%;z-index: 0;}#sk-container-id-3 div.sk-serial {display: flex;flex-direction: column;align-items: center;background-color: white;padding-right: 0.2em;padding-left: 0.2em;position: relative;}#sk-container-id-3 div.sk-item {position: relative;z-index: 1;}#sk-container-id-3 div.sk-parallel {display: flex;align-items: stretch;justify-content: center;background-color: white;position: relative;}#sk-container-id-3 div.sk-item::before, #sk-container-id-3 div.sk-parallel-item::before {content: \"\";position: absolute;border-left: 1px solid gray;box-sizing: border-box;top: 0;bottom: 0;left: 50%;z-index: -1;}#sk-container-id-3 div.sk-parallel-item {display: flex;flex-direction: column;z-index: 1;position: relative;background-color: white;}#sk-container-id-3 div.sk-parallel-item:first-child::after {align-self: flex-end;width: 50%;}#sk-container-id-3 div.sk-parallel-item:last-child::after {align-self: flex-start;width: 50%;}#sk-container-id-3 div.sk-parallel-item:only-child::after {width: 0;}#sk-container-id-3 div.sk-dashed-wrapped {border: 1px dashed gray;margin: 0 0.4em 0.5em 0.4em;box-sizing: border-box;padding-bottom: 0.4em;background-color: white;}#sk-container-id-3 div.sk-label label {font-family: monospace;font-weight: bold;display: inline-block;line-height: 1.2em;}#sk-container-id-3 div.sk-label-container {text-align: center;}#sk-container-id-3 div.sk-container {/* jupyter's `normalize.less` sets `[hidden] { display: none; }` but bootstrap.min.css set `[hidden] { display: none !important; }` so we also need the `!important` here to be able to override the default hidden behavior on the sphinx rendered scikit-learn.org. See: https://github.com/scikit-learn/scikit-learn/issues/21755 */display: inline-block !important;position: relative;}#sk-container-id-3 div.sk-text-repr-fallback {display: none;}</style><div id=\"sk-container-id-3\" class=\"sk-top-container\"><div class=\"sk-text-repr-fallback\"><pre>RandomForestRegressor(max_depth=4, n_estimators=40, random_state=42)</pre><b>In a Jupyter environment, please rerun this cell to show the HTML representation or trust the notebook. <br />On GitHub, the HTML representation is unable to render, please try loading this page with nbviewer.org.</b></div><div class=\"sk-container\" hidden><div class=\"sk-item\"><div class=\"sk-estimator sk-toggleable\"><input class=\"sk-toggleable__control sk-hidden--visually\" id=\"sk-estimator-id-5\" type=\"checkbox\" checked><label for=\"sk-estimator-id-5\" class=\"sk-toggleable__label sk-toggleable__label-arrow\">RandomForestRegressor</label><div class=\"sk-toggleable__content\"><pre>RandomForestRegressor(max_depth=4, n_estimators=40, random_state=42)</pre></div></div></div></div></div>"
      ],
      "text/plain": [
       "RandomForestRegressor(max_depth=4, n_estimators=40, random_state=42)"
      ]
     },
     "execution_count": 39,
     "metadata": {},
     "output_type": "execute_result"
    }
   ],
   "source": [
    "regr.fit(X_train, y_train)"
   ]
  },
  {
   "cell_type": "code",
   "execution_count": 40,
   "metadata": {
    "id": "vLhp6KZ22OE-",
    "tags": []
   },
   "outputs": [],
   "source": [
    "y_pred = regr.predict(X_test)"
   ]
  },
  {
   "cell_type": "code",
   "execution_count": 41,
   "metadata": {
    "id": "TLiMOHhO2kEn",
    "tags": []
   },
   "outputs": [],
   "source": [
    "from sklearn.metrics import mean_absolute_error"
   ]
  },
  {
   "cell_type": "code",
   "execution_count": 42,
   "metadata": {
    "colab": {
     "base_uri": "https://localhost:8080/"
    },
    "id": "nCw5Q1V52wpZ",
    "outputId": "d281f9c1-5c7a-425f-e9c7-26a1310095eb",
    "tags": []
   },
   "outputs": [
    {
     "data": {
      "text/plain": [
       "20551.788947695368"
      ]
     },
     "execution_count": 42,
     "metadata": {},
     "output_type": "execute_result"
    }
   ],
   "source": [
    "mean_absolute_error(y_test, y_pred)"
   ]
  },
  {
   "cell_type": "code",
   "execution_count": 43,
   "metadata": {},
   "outputs": [],
   "source": [
    "import joblib"
   ]
  },
  {
   "cell_type": "code",
   "execution_count": 45,
   "metadata": {
    "tags": []
   },
   "outputs": [
    {
     "data": {
      "text/plain": [
       "['rf.joblib']"
      ]
     },
     "execution_count": 45,
     "metadata": {},
     "output_type": "execute_result"
    }
   ],
   "source": [
    "joblib.dump(regr, 'rf.joblib')"
   ]
  },
  {
   "cell_type": "code",
   "execution_count": 46,
   "metadata": {},
   "outputs": [
    {
     "name": "stdout",
     "output_type": "stream",
     "text": [
      "absl-py @ file:///home/conda/feedstock_root/build_artifacts/absl-py_1665754496418/work\n",
      "aiofiles==22.1.0\n",
      "aiohttp @ file:///home/conda/feedstock_root/build_artifacts/aiohttp_1666878556312/work\n",
      "aiosignal @ file:///home/conda/feedstock_root/build_artifacts/aiosignal_1667935791922/work\n",
      "aiosqlite==0.20.0\n",
      "alembic @ file:///home/conda/feedstock_root/build_artifacts/alembic_1671877868880/work\n",
      "altair @ file:///home/conda/feedstock_root/build_artifacts/altair_1640799865332/work\n",
      "anyio @ file:///home/conda/feedstock_root/build_artifacts/anyio_1666191106763/work/dist\n",
      "argon2-cffi @ file:///home/conda/feedstock_root/build_artifacts/argon2-cffi_1640817743617/work\n",
      "argon2-cffi-bindings @ file:///home/conda/feedstock_root/build_artifacts/argon2-cffi-bindings_1666850768662/work\n",
      "arrow==1.3.0\n",
      "astroid==3.1.0\n",
      "asttokens @ file:///home/conda/feedstock_root/build_artifacts/asttokens_1670263926556/work\n",
      "astunparse @ file:///home/conda/feedstock_root/build_artifacts/astunparse_1610696312422/work\n",
      "async-generator==1.10\n",
      "async-timeout @ file:///home/conda/feedstock_root/build_artifacts/async-timeout_1640026696943/work\n",
      "attrs==23.2.0\n",
      "Automat==22.10.0\n",
      "autopep8==2.0.4\n",
      "Babel @ file:///home/conda/feedstock_root/build_artifacts/babel_1667688356751/work\n",
      "backcall @ file:///home/conda/feedstock_root/build_artifacts/backcall_1592338393461/work\n",
      "backports.functools-lru-cache @ file:///home/conda/feedstock_root/build_artifacts/backports.functools_lru_cache_1618230623929/work\n",
      "beautifulsoup4 @ file:///home/conda/feedstock_root/build_artifacts/beautifulsoup4_1649463573192/work\n",
      "black==24.3.0\n",
      "bleach @ file:///home/conda/feedstock_root/build_artifacts/bleach_1656355450470/work\n",
      "blinker @ file:///home/conda/feedstock_root/build_artifacts/blinker_1664823096650/work\n",
      "bokeh @ file:///home/conda/feedstock_root/build_artifacts/bokeh_1660586590972/work\n",
      "boto3==1.34.82\n",
      "botocore==1.34.82\n",
      "Bottleneck @ file:///home/conda/feedstock_root/build_artifacts/bottleneck_1666839274857/work\n",
      "brotlipy @ file:///home/conda/feedstock_root/build_artifacts/brotlipy_1666764671472/work\n",
      "cached-property @ file:///home/conda/feedstock_root/build_artifacts/cached_property_1615209429212/work\n",
      "cachetools @ file:///home/conda/feedstock_root/build_artifacts/cachetools_1660055382950/work\n",
      "catboost==1.2.3\n",
      "certifi==2022.12.7\n",
      "certipy==0.1.3\n",
      "cffi @ file:///home/conda/feedstock_root/build_artifacts/cffi_1671179353105/work\n",
      "charset-normalizer @ file:///home/conda/feedstock_root/build_artifacts/charset-normalizer_1661170624537/work\n",
      "click @ file:///home/conda/feedstock_root/build_artifacts/click_1666798198223/work\n",
      "cloudpickle @ file:///home/conda/feedstock_root/build_artifacts/cloudpickle_1662587369221/work\n",
      "colorama @ file:///home/conda/feedstock_root/build_artifacts/colorama_1666700638685/work\n",
      "comm @ file:///home/conda/feedstock_root/build_artifacts/comm_1670575068857/work\n",
      "conda==22.11.1\n",
      "conda-package-handling @ file:///home/conda/feedstock_root/build_artifacts/conda-package-handling_1669907009957/work\n",
      "conda_package_streaming @ file:///home/conda/feedstock_root/build_artifacts/conda-package-streaming_1669733752472/work\n",
      "constantly==23.10.4\n",
      "contourpy @ file:///home/conda/feedstock_root/build_artifacts/contourpy_1667247999152/work\n",
      "cryptography @ file:///home/conda/feedstock_root/build_artifacts/cryptography-split_1672672382195/work\n",
      "cssselect==1.2.0\n",
      "cycler @ file:///home/conda/feedstock_root/build_artifacts/cycler_1635519461629/work\n",
      "Cython @ file:///home/conda/feedstock_root/build_artifacts/cython_1666736987955/work\n",
      "cytoolz @ file:///home/conda/feedstock_root/build_artifacts/cytoolz_1666829662037/work\n",
      "dask @ file:///home/conda/feedstock_root/build_artifacts/dask-core_1671229609766/work\n",
      "DAWG-Python==0.7.2\n",
      "debugpy @ file:///home/conda/feedstock_root/build_artifacts/debugpy_1669709861168/work\n",
      "decorator @ file:///home/conda/feedstock_root/build_artifacts/decorator_1641555617451/work\n",
      "defusedxml @ file:///home/conda/feedstock_root/build_artifacts/defusedxml_1615232257335/work\n",
      "Deprecated==1.2.14\n",
      "deprecation==2.1.0\n",
      "dill @ file:///home/conda/feedstock_root/build_artifacts/dill_1666603105584/work\n",
      "distributed @ file:///home/conda/feedstock_root/build_artifacts/distributed_1671231846717/work\n",
      "docopt==0.6.2\n",
      "docstring-to-markdown==0.15\n",
      "docstring_parser==0.16\n",
      "eli5==0.13.0\n",
      "elyra-code-snippet-extension==3.15.0\n",
      "elyra-python-editor-extension==3.15.0\n",
      "elyra-server==3.15.0\n",
      "entrypoints @ file:///home/conda/feedstock_root/build_artifacts/entrypoints_1643888246732/work\n",
      "et-xmlfile==1.0.1\n",
      "exceptiongroup==1.2.0\n",
      "executing @ file:///home/conda/feedstock_root/build_artifacts/executing_1667317341051/work\n",
      "fastjsonschema @ file:///home/conda/feedstock_root/build_artifacts/python-fastjsonschema_1663619548554/work/dist\n",
      "filelock==3.13.4\n",
      "fire==0.6.0\n",
      "flake8==7.0.0\n",
      "flatbuffers @ file:///home/conda/feedstock_root/build_artifacts/python-flatbuffers_1670726765190/work\n",
      "flit_core @ file:///home/conda/feedstock_root/build_artifacts/flit-core_1667734568827/work/source/flit_core\n",
      "fonttools @ file:///home/conda/feedstock_root/build_artifacts/fonttools_1666827107856/work\n",
      "fqdn==1.5.1\n",
      "frozenlist @ file:///home/conda/feedstock_root/build_artifacts/frozenlist_1667935435842/work\n",
      "fsspec @ file:///home/conda/feedstock_root/build_artifacts/fsspec_1668082755814/work\n",
      "future==1.0.0\n",
      "gast @ file:///home/conda/feedstock_root/build_artifacts/gast_1596839682936/work\n",
      "gensim==4.3.2\n",
      "gitdb==4.0.11\n",
      "GitPython==3.1.43\n",
      "gmpy2 @ file:///home/conda/feedstock_root/build_artifacts/gmpy2_1666808654411/work\n",
      "google-api-core==2.18.0\n",
      "google-api-python-client==1.12.11\n",
      "google-auth==2.29.0\n",
      "google-auth-httplib2==0.2.0\n",
      "google-auth-oauthlib @ file:///home/conda/feedstock_root/build_artifacts/google-auth-oauthlib_1630497468950/work\n",
      "google-cloud-core==2.4.1\n",
      "google-cloud-storage==2.16.0\n",
      "google-crc32c==1.5.0\n",
      "google-pasta==0.2.0\n",
      "google-resumable-media==2.7.0\n",
      "googleapis-common-protos==1.63.0\n",
      "graphviz==0.20.3\n",
      "greenlet @ file:///home/conda/feedstock_root/build_artifacts/greenlet_1667836508676/work\n",
      "grpcio @ file:///home/conda/feedstock_root/build_artifacts/grpc-split_1666813355877/work\n",
      "h11==0.14.0\n",
      "h5py @ file:///home/conda/feedstock_root/build_artifacts/h5py_1666830838702/work\n",
      "HeapDict==1.0.1\n",
      "httplib2==0.22.0\n",
      "hyperlink==21.0.0\n",
      "hyperopt==0.2.7\n",
      "idna @ file:///home/conda/feedstock_root/build_artifacts/idna_1663625384323/work\n",
      "imagecodecs @ file:///home/conda/feedstock_root/build_artifacts/imagecodecs_1671885549045/work\n",
      "imageio @ file:///home/conda/feedstock_root/build_artifacts/imageio_1671532563995/work\n",
      "importlib-resources @ file:///home/conda/feedstock_root/build_artifacts/importlib_resources_1672681417544/work\n",
      "importlib_metadata==7.1.0\n",
      "incremental==22.10.0\n",
      "intervaltree==3.1.0\n",
      "ipykernel @ file:///home/conda/feedstock_root/build_artifacts/ipykernel_1671555071666/work\n",
      "ipymarkup==0.9.0\n",
      "ipympl @ file:///home/conda/feedstock_root/build_artifacts/ipympl_1661165023080/work\n",
      "ipython @ file:///home/conda/feedstock_root/build_artifacts/ipython_1672758592894/work\n",
      "ipython-genutils==0.2.0\n",
      "ipywidgets @ file:///home/conda/feedstock_root/build_artifacts/ipywidgets_1671720089366/work\n",
      "isoduration==20.11.0\n",
      "isort==5.13.2\n",
      "itemadapter==0.8.0\n",
      "itemloaders==1.1.0\n",
      "jedi @ file:///home/conda/feedstock_root/build_artifacts/jedi_1669134318875/work\n",
      "Jinja2 @ file:///home/conda/feedstock_root/build_artifacts/jinja2_1654302431367/work\n",
      "jmespath==1.0.1\n",
      "joblib @ file:///home/conda/feedstock_root/build_artifacts/joblib_1663332044897/work\n",
      "json5 @ file:///home/conda/feedstock_root/build_artifacts/json5_1600692310011/work\n",
      "jsonpointer==2.4\n",
      "jsonschema==4.21.1\n",
      "jsonschema-specifications==2023.12.1\n",
      "jupyter-events==0.10.0\n",
      "jupyter-lsp==2.2.5\n",
      "jupyter-resource-usage==1.0.2\n",
      "jupyter-server-mathjax==0.2.6\n",
      "jupyter-telemetry @ file:///home/conda/feedstock_root/build_artifacts/jupyter_telemetry_1605173804246/work\n",
      "jupyter-ydoc==0.2.5\n",
      "jupyter_client @ file:///home/conda/feedstock_root/build_artifacts/jupyter_client_1670253809910/work\n",
      "jupyter_core @ file:///home/conda/feedstock_root/build_artifacts/jupyter_core_1672753819366/work\n",
      "jupyter_packaging==0.12.3\n",
      "jupyter_server @ file:///home/conda/feedstock_root/build_artifacts/jupyter_server_1672312237211/work\n",
      "jupyter_server_fileid==0.9.1\n",
      "jupyter_server_proxy==4.1.2\n",
      "jupyter_server_terminals @ file:///home/conda/feedstock_root/build_artifacts/jupyter_server_terminals_1671471420435/work\n",
      "jupyter_server_ydoc==0.8.0\n",
      "jupyterhub @ file:///home/conda/feedstock_root/build_artifacts/jupyterhub-feedstock_1670250040221/work\n",
      "jupyterlab==3.6.7\n",
      "jupyterlab-lsp==4.3.0\n",
      "jupyterlab-pygments @ file:///home/conda/feedstock_root/build_artifacts/jupyterlab_pygments_1649936611996/work\n",
      "jupyterlab-widgets @ file:///home/conda/feedstock_root/build_artifacts/jupyterlab_widgets_1671722028097/work\n",
      "jupyterlab_git==0.44.0\n",
      "jupyterlab_server==2.26.0\n",
      "kds==0.1.3\n",
      "keras @ file:///home/conda/feedstock_root/build_artifacts/keras_1662254869273/work/keras-2.10.0-py2.py3-none-any.whl\n",
      "Keras-Preprocessing @ file:///home/conda/feedstock_root/build_artifacts/keras-preprocessing_1610713559828/work\n",
      "kfp==1.8.22\n",
      "kfp-pipeline-spec==0.1.16\n",
      "kfp-server-api==1.8.5\n",
      "kiwisolver @ file:///home/conda/feedstock_root/build_artifacts/kiwisolver_1666805701884/work\n",
      "kubernetes==25.3.0\n",
      "langdetect==1.0.9\n",
      "Levenshtein==0.25.1\n",
      "libmambapy @ file:///home/conda/feedstock_root/build_artifacts/mamba-split_1671598334517/work/libmambapy\n",
      "lightgbm==4.3.0\n",
      "llvmlite==0.39.1\n",
      "locket @ file:///home/conda/feedstock_root/build_artifacts/locket_1650660393415/work\n",
      "lxml==5.2.1\n",
      "lz4 @ file:///home/conda/feedstock_root/build_artifacts/lz4_1672341041906/work\n",
      "Mako @ file:///home/conda/feedstock_root/build_artifacts/mako_1668568582731/work\n",
      "mamba @ file:///home/conda/feedstock_root/build_artifacts/mamba-split_1671598334517/work/mamba\n",
      "Markdown @ file:///home/conda/feedstock_root/build_artifacts/markdown_1657921053229/work\n",
      "markdown-it-py==3.0.0\n",
      "MarkupSafe @ file:///home/conda/feedstock_root/build_artifacts/markupsafe_1666770180095/work\n",
      "matplotlib @ file:///home/conda/feedstock_root/build_artifacts/matplotlib-suite_1667504897083/work\n",
      "matplotlib-inline @ file:///home/conda/feedstock_root/build_artifacts/matplotlib-inline_1660814786464/work\n",
      "mccabe==0.7.0\n",
      "mdurl==0.1.2\n",
      "minio==7.2.5\n",
      "mistune @ file:///home/conda/feedstock_root/build_artifacts/mistune_1657892024508/work\n",
      "mpmath @ file:///home/conda/feedstock_root/build_artifacts/mpmath_1612895720168/work\n",
      "msgpack @ file:///home/conda/feedstock_root/build_artifacts/msgpack-python_1666755075942/work\n",
      "multidict @ file:///home/conda/feedstock_root/build_artifacts/multidict_1672339403932/work\n",
      "munkres==1.1.4\n",
      "mypy-extensions==1.0.0\n",
      "natasha==1.6.0\n",
      "navec==0.10.0\n",
      "nbclassic @ file:///home/conda/feedstock_root/build_artifacts/nbclassic_1667492839781/work\n",
      "nbclient @ file:///home/conda/feedstock_root/build_artifacts/nbclient_1669795076334/work\n",
      "nbconvert @ file:///home/conda/feedstock_root/build_artifacts/nbconvert-meta_1671523743066/work\n",
      "nbdime==3.2.1\n",
      "nbformat @ file:///home/conda/feedstock_root/build_artifacts/nbformat_1671474423563/work\n",
      "nbgitpuller==1.2.1\n",
      "nest-asyncio @ file:///home/conda/feedstock_root/build_artifacts/nest-asyncio_1664684991461/work\n",
      "networkx @ file:///home/conda/feedstock_root/build_artifacts/networkx_1667391556261/work\n",
      "nltk==3.8.1\n",
      "notebook @ file:///home/conda/feedstock_root/build_artifacts/notebook_1667565639349/work\n",
      "notebook_shim @ file:///home/conda/feedstock_root/build_artifacts/notebook-shim_1667478401171/work\n",
      "numba @ file:///home/conda/feedstock_root/build_artifacts/numba_1669103970038/work\n",
      "numexpr @ file:///home/conda/feedstock_root/build_artifacts/numexpr_1666816709487/work\n",
      "numpy @ file:///home/conda/feedstock_root/build_artifacts/numpy_1668919096861/work\n",
      "nvidia-cublas-cu12==12.1.3.1\n",
      "nvidia-cuda-cupti-cu12==12.1.105\n",
      "nvidia-cuda-nvrtc-cu12==12.1.105\n",
      "nvidia-cuda-runtime-cu12==12.1.105\n",
      "nvidia-cudnn-cu12==8.9.2.26\n",
      "nvidia-cufft-cu12==11.0.2.54\n",
      "nvidia-curand-cu12==10.3.2.106\n",
      "nvidia-cusolver-cu12==11.4.5.107\n",
      "nvidia-cusparse-cu12==12.1.0.106\n",
      "nvidia-nccl-cu12==2.19.3\n",
      "nvidia-nvjitlink-cu12==12.4.127\n",
      "nvidia-nvtx-cu12==12.1.105\n",
      "oauthlib @ file:///home/conda/feedstock_root/build_artifacts/oauthlib_1666056362788/work\n",
      "openpyxl==3.0.10\n",
      "opt-einsum @ file:///home/conda/feedstock_root/build_artifacts/opt_einsum_1617859230218/work\n",
      "outcome==1.3.0.post0\n",
      "packaging==24.0\n",
      "pamela==1.0.0\n",
      "pandas==1.5.2\n",
      "pandocfilters @ file:///home/conda/feedstock_root/build_artifacts/pandocfilters_1631603243851/work\n",
      "papermill==2.5.0\n",
      "parsel==1.9.1\n",
      "parso @ file:///home/conda/feedstock_root/build_artifacts/parso_1638334955874/work\n",
      "partd @ file:///home/conda/feedstock_root/build_artifacts/partd_1660316728562/work\n",
      "pathspec==0.12.1\n",
      "patsy @ file:///home/conda/feedstock_root/build_artifacts/patsy_1665356157073/work\n",
      "pexpect @ file:///home/conda/feedstock_root/build_artifacts/pexpect_1667297516076/work\n",
      "pickleshare @ file:///home/conda/feedstock_root/build_artifacts/pickleshare_1602536217715/work\n",
      "Pillow @ file:///home/conda/feedstock_root/build_artifacts/pillow_1672675302314/work\n",
      "pkgutil_resolve_name @ file:///home/conda/feedstock_root/build_artifacts/pkgutil-resolve-name_1633981968097/work\n",
      "platformdirs==4.2.0\n",
      "plotly==5.20.0\n",
      "pluggy @ file:///home/conda/feedstock_root/build_artifacts/pluggy_1667232663820/work\n",
      "plumbum==1.8.2\n",
      "prometheus-client @ file:///home/conda/feedstock_root/build_artifacts/prometheus_client_1665692535292/work\n",
      "prompt-toolkit @ file:///home/conda/feedstock_root/build_artifacts/prompt-toolkit_1670414775770/work\n",
      "Protego==0.3.1\n",
      "proto-plus==1.23.0\n",
      "protobuf==3.20.3\n",
      "psutil @ file:///home/conda/feedstock_root/build_artifacts/psutil_1667885877572/work\n",
      "psycopg2-binary==2.9.9\n",
      "ptyprocess @ file:///home/conda/feedstock_root/build_artifacts/ptyprocess_1609419310487/work/dist/ptyprocess-0.7.0-py2.py3-none-any.whl\n",
      "pure-eval @ file:///home/conda/feedstock_root/build_artifacts/pure_eval_1642875951954/work\n",
      "py4j==0.10.9.7\n",
      "pyasn1==0.4.8\n",
      "pyasn1-modules==0.2.7\n",
      "pycodestyle==2.11.1\n",
      "pycosat @ file:///home/conda/feedstock_root/build_artifacts/pycosat_1666836542287/work\n",
      "pycparser @ file:///home/conda/feedstock_root/build_artifacts/pycparser_1636257122734/work\n",
      "pycryptodome==3.20.0\n",
      "pycurl==7.45.1\n",
      "pydantic==1.10.15\n",
      "PyDispatcher==2.0.7\n",
      "pydocstyle==6.3.0\n",
      "pydot==2.0.0\n",
      "pydotplus==2.0.2\n",
      "pyflakes==3.2.0\n",
      "PyGithub==2.3.0\n",
      "Pygments @ file:///home/conda/feedstock_root/build_artifacts/pygments_1672682006896/work\n",
      "PyJWT @ file:///home/conda/feedstock_root/build_artifacts/pyjwt_1666240235902/work\n",
      "pylint==3.1.0\n",
      "pymorphy2==0.9.1\n",
      "pymorphy2-dicts-ru==2.4.417127.4579844\n",
      "pymystem3==0.2.0\n",
      "PyNaCl==1.5.0\n",
      "pyOpenSSL @ file:///home/conda/feedstock_root/build_artifacts/pyopenssl_1672659226110/work\n",
      "pyparsing @ file:///home/conda/feedstock_root/build_artifacts/pyparsing_1652235407899/work\n",
      "pyrsistent @ file:///home/conda/feedstock_root/build_artifacts/pyrsistent_1672681463845/work\n",
      "PySocks @ file:///home/conda/feedstock_root/build_artifacts/pysocks_1661604839144/work\n",
      "python-dateutil @ file:///home/conda/feedstock_root/build_artifacts/python-dateutil_1626286286081/work\n",
      "python-json-logger @ file:///home/conda/feedstock_root/build_artifacts/python-json-logger_1671655909697/work\n",
      "python-Levenshtein==0.25.1\n",
      "python-lsp-jsonrpc==1.1.2\n",
      "python-lsp-server==1.11.0\n",
      "pytoolconfig==1.3.1\n",
      "pytz @ file:///home/conda/feedstock_root/build_artifacts/pytz_1671365381334/work\n",
      "pyu2f @ file:///home/conda/feedstock_root/build_artifacts/pyu2f_1604248910016/work\n",
      "PyWavelets @ file:///home/conda/feedstock_root/build_artifacts/pywavelets_1666837677715/work\n",
      "PyYAML @ file:///home/conda/feedstock_root/build_artifacts/pyyaml_1666772395347/work\n",
      "pyzmq @ file:///home/conda/feedstock_root/build_artifacts/pyzmq_1666828497229/work\n",
      "queuelib==1.6.2\n",
      "rapidfuzz==3.8.1\n",
      "razdel==0.5.0\n",
      "referencing==0.34.0\n",
      "regex==2023.12.25\n",
      "requests==2.31.0\n",
      "requests-file==2.0.0\n",
      "requests-oauthlib @ file:///home/conda/feedstock_root/build_artifacts/requests-oauthlib_1643557462909/work\n",
      "requests-toolbelt==0.10.1\n",
      "rfc3339-validator==0.1.4\n",
      "rfc3986-validator==0.1.1\n",
      "rich==13.7.1\n",
      "rope==1.13.0\n",
      "rpds-py==0.18.0\n",
      "rsa @ file:///home/conda/feedstock_root/build_artifacts/rsa_1658328885051/work\n",
      "ruamel.yaml @ file:///home/conda/feedstock_root/build_artifacts/ruamel.yaml_1666827327415/work\n",
      "ruamel.yaml.clib @ file:///home/conda/feedstock_root/build_artifacts/ruamel.yaml.clib_1670412719074/work\n",
      "s3fs==0.4.2\n",
      "s3transfer==0.10.1\n",
      "scikit-image @ file:///home/conda/feedstock_root/build_artifacts/scikit-image_1667117143644/work\n",
      "scikit-learn==1.2.2\n",
      "scipy==1.9.3\n",
      "Scrapy==2.11.1\n",
      "seaborn @ file:///home/conda/feedstock_root/build_artifacts/seaborn-split_1672497695270/work\n",
      "selenium==4.19.0\n",
      "Send2Trash @ file:///home/conda/feedstock_root/build_artifacts/send2trash_1628511208346/work\n",
      "service-identity==24.1.0\n",
      "shellingham==1.5.4\n",
      "simpervisor==1.0.0\n",
      "six @ file:///home/conda/feedstock_root/build_artifacts/six_1620240208055/work\n",
      "slovnet==0.6.0\n",
      "smart-open==7.0.4\n",
      "smmap==5.0.1\n",
      "sniffio @ file:///home/conda/feedstock_root/build_artifacts/sniffio_1662051266223/work\n",
      "snowballstemmer==2.2.0\n",
      "sortedcontainers @ file:///home/conda/feedstock_root/build_artifacts/sortedcontainers_1621217038088/work\n",
      "soupsieve @ file:///home/conda/feedstock_root/build_artifacts/soupsieve_1658207591808/work\n",
      "SQLAlchemy @ file:///home/conda/feedstock_root/build_artifacts/sqlalchemy_1672796154578/work\n",
      "stack-data @ file:///home/conda/feedstock_root/build_artifacts/stack_data_1669632077133/work\n",
      "stats==0.1.2a0\n",
      "statsmodels @ file:///home/conda/feedstock_root/build_artifacts/statsmodels_1667586015456/work\n",
      "strip-hints==0.1.10\n",
      "sympy @ file:///home/conda/feedstock_root/build_artifacts/sympy_1666835336524/work\n",
      "tables @ file:///home/conda/feedstock_root/build_artifacts/pytables_1666850057596/work\n",
      "tabulate==0.9.0\n",
      "tblib @ file:///home/conda/feedstock_root/build_artifacts/tblib_1616261298899/work\n",
      "tenacity==8.2.3\n",
      "tensorboard @ file:///home/conda/feedstock_root/build_artifacts/tensorboard_1664238338171/work/tensorboard-2.10.1-py3-none-any.whl\n",
      "tensorboard-data-server @ file:///home/conda/feedstock_root/build_artifacts/tensorboard-data-server_1670043828936/work/tensorboard_data_server-0.6.1-py3-none-manylinux2010_x86_64.whl\n",
      "tensorboard-plugin-wit @ file:///home/conda/feedstock_root/build_artifacts/tensorboard-plugin-wit_1641458951060/work/tensorboard_plugin_wit-1.8.1-py3-none-any.whl\n",
      "tensorflow @ file:///home/conda/feedstock_root/build_artifacts/tensorflow-split_1663956281204/work/tensorflow_pkg/tensorflow-2.10.0-cp310-cp310-linux_x86_64.whl\n",
      "tensorflow-addons==0.23.0\n",
      "tensorflow-estimator @ file:///home/conda/feedstock_root/build_artifacts/tensorflow-split_1663956281204/work/tensorflow-estimator/wheel_dir/tensorflow_estimator-2.10.0-py2.py3-none-any.whl\n",
      "termcolor==2.3.0\n",
      "terminado @ file:///home/conda/feedstock_root/build_artifacts/terminado_1670253674810/work\n",
      "threadpoolctl @ file:///home/conda/feedstock_root/build_artifacts/threadpoolctl_1643647933166/work\n",
      "tifffile @ file:///home/conda/feedstock_root/build_artifacts/tifffile_1665588749940/work\n",
      "tinycss2 @ file:///home/conda/feedstock_root/build_artifacts/tinycss2_1666100256010/work\n",
      "tldextract==5.1.2\n",
      "tomli @ file:///home/conda/feedstock_root/build_artifacts/tomli_1644342247877/work\n",
      "tomlkit==0.12.4\n",
      "toolz @ file:///home/conda/feedstock_root/build_artifacts/toolz_1657485559105/work\n",
      "torch==2.2.2\n",
      "torchvision==0.17.2\n",
      "tornado @ file:///home/conda/feedstock_root/build_artifacts/tornado_1666788589303/work\n",
      "tqdm @ file:///home/conda/feedstock_root/build_artifacts/tqdm_1662214488106/work\n",
      "traitlets @ file:///home/conda/feedstock_root/build_artifacts/traitlets_1671473371426/work\n",
      "trio==0.25.0\n",
      "trio-websocket==0.11.1\n",
      "triton==2.2.0\n",
      "Twisted==24.3.0\n",
      "typeguard==2.13.3\n",
      "typer==0.12.3\n",
      "types-python-dateutil==2.9.0.20240316\n",
      "typing_extensions==4.11.0\n",
      "ujson==5.9.0\n",
      "unicodedata2 @ file:///home/conda/feedstock_root/build_artifacts/unicodedata2_1667239886688/work\n",
      "uri-template==1.3.0\n",
      "uritemplate==3.0.1\n",
      "urllib3 @ file:///home/conda/feedstock_root/build_artifacts/urllib3_1669259737463/work\n",
      "w3lib==2.1.2\n",
      "watchdog==4.0.0\n",
      "wcwidth @ file:///home/conda/feedstock_root/build_artifacts/wcwidth_1600965781394/work\n",
      "webcolors==1.13\n",
      "webencodings==0.5.1\n",
      "websocket-client @ file:///home/conda/feedstock_root/build_artifacts/websocket-client_1667568040382/work\n",
      "Werkzeug @ file:///home/conda/feedstock_root/build_artifacts/werkzeug_1660053523487/work\n",
      "whatthepatch==1.0.5\n",
      "widgetsnbextension @ file:///home/conda/feedstock_root/build_artifacts/widgetsnbextension_1672066693230/work\n",
      "word2vec==0.11.1\n",
      "wordcloud==1.9.3\n",
      "wrapt @ file:///home/conda/feedstock_root/build_artifacts/wrapt_1666806031361/work\n",
      "wsproto==1.2.0\n",
      "xgboost==2.0.3\n",
      "xlrd @ file:///home/conda/feedstock_root/build_artifacts/xlrd_1610224409810/work\n",
      "XlsxWriter==3.2.0\n",
      "y-py==0.6.2\n",
      "yapf==0.40.2\n",
      "yargy==0.16.0\n",
      "yarl @ file:///home/conda/feedstock_root/build_artifacts/yarl_1672340954791/work\n",
      "yaspin==3.0.2\n",
      "ypy-websocket==0.8.4\n",
      "zict @ file:///home/conda/feedstock_root/build_artifacts/zict_1651156074437/work\n",
      "zipp @ file:///home/conda/feedstock_root/build_artifacts/zipp_1669453021653/work\n",
      "zope.interface==6.2\n",
      "zstandard==0.19.0\n",
      "Note: you may need to restart the kernel to use updated packages.\n"
     ]
    }
   ],
   "source": [
    "%pip freeze"
   ]
  },
  {
   "cell_type": "code",
   "execution_count": null,
   "metadata": {},
   "outputs": [],
   "source": []
  }
 ],
 "metadata": {
  "colab": {
   "provenance": []
  },
  "kernelspec": {
   "display_name": "Python 3 (ipykernel)",
   "language": "python",
   "name": "python3"
  },
  "language_info": {
   "codemirror_mode": {
    "name": "ipython",
    "version": 3
   },
   "file_extension": ".py",
   "mimetype": "text/x-python",
   "name": "python",
   "nbconvert_exporter": "python",
   "pygments_lexer": "ipython3",
   "version": "3.10.8"
  }
 },
 "nbformat": 4,
 "nbformat_minor": 4
}
